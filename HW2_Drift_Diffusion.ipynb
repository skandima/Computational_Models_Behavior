{
 "cells": [
  {
   "cell_type": "code",
   "execution_count": null,
   "metadata": {},
   "outputs": [],
   "source": [
    "import numpy as np\n",
    "import matplotlib.pyplot as plt"
   ]
  },
  {
   "cell_type": "code",
   "execution_count": null,
   "metadata": {},
   "outputs": [],
   "source": [
    "def drift_diffusion_model(v, sigma, z, a, delta_t, t0):\n",
    "    x = z\n",
    "    t = t0\n",
    "\n",
    "    while (x>0) and (x<a):\n",
    "        epsilon = np.random.normal(v, sigma)\n",
    "        x += epsilon   \n",
    "        t += delta_t\n",
    "    \n",
    "    if x <= 0:\n",
    "        y = 0\n",
    "    elif x >= a:\n",
    "        y = 1\n",
    "    return y, t"
   ]
  },
  {
   "cell_type": "code",
   "execution_count": null,
   "metadata": {},
   "outputs": [],
   "source": [
    "# Parameters\n",
    "v = 0.5\n",
    "sigma = 7\n",
    "z = 100\n",
    "a = 200\n",
    "delta_t = 1\n",
    "t0 = 200\n",
    "\n",
    "# Number of trials\n",
    "num_trials = 1000"
   ]
  },
  {
   "cell_type": "code",
   "execution_count": null,
   "metadata": {},
   "outputs": [],
   "source": [
    "# Simulate trials\n",
    "results = []\n",
    "for _ in range(num_trials):\n",
    "    result = drift_diffusion_model(v, sigma, z, a, delta_t, t0)\n",
    "    results.append(result)\n",
    "    \n",
    "_, response_times = zip(*results)\n"
   ]
  },
  {
   "cell_type": "code",
   "execution_count": null,
   "metadata": {},
   "outputs": [],
   "source": [
    "plt.hist(response_times, bins=50, edgecolor='k', alpha=0.7, density=True)\n",
    "plt.xlabel('Response Time')\n",
    "plt.ylabel('Proportion')\n",
    "plt.title('Distribution of Response Times in 1000 Trials')\n",
    "plt.grid(True, which='both', linestyle='--', linewidth=0.5)\n",
    "plt.tight_layout()\n",
    "plt.show()"
   ]
  }
 ],
 "metadata": {
  "kernelspec": {
   "display_name": "Python 3.9.13 ('base')",
   "language": "python",
   "name": "python3"
  },
  "language_info": {
   "codemirror_mode": {
    "name": "ipython",
    "version": 3
   },
   "file_extension": ".py",
   "mimetype": "text/x-python",
   "name": "python",
   "nbconvert_exporter": "python",
   "pygments_lexer": "ipython3",
   "version": "3.9.13"
  },
  "orig_nbformat": 4,
  "vscode": {
   "interpreter": {
    "hash": "8715b6007523fecdcaa0175d047630774a80c420e214f691f4aa419b55f37cfb"
   }
  }
 },
 "nbformat": 4,
 "nbformat_minor": 2
}
