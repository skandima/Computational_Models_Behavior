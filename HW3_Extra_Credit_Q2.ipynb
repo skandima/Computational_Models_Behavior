{
 "cells": [
  {
   "cell_type": "code",
   "execution_count": 1,
   "metadata": {},
   "outputs": [],
   "source": [
    "import numpy as np\n",
    "from scipy.optimize import minimize\n",
    "import matplotlib.pyplot as plt\n",
    "import pandas as pd"
   ]
  },
  {
   "cell_type": "code",
   "execution_count": 2,
   "metadata": {},
   "outputs": [],
   "source": [
    "#Load data\n",
    "data_user_30222 = pd.read_csv('/Users/sriskandhakandimalla/Documents/PSYCH119/LumositySample_user30222.csv')\n",
    "data_user_48567 = pd.read_csv('/Users/sriskandhakandimalla/Documents/PSYCH119/LumositySample_user48567.csv')\n",
    "data_user_144155 = pd.read_csv('/Users/sriskandhakandimalla/Documents/PSYCH119/LumositySample_user144155.csv')\n"
   ]
  },
  {
   "cell_type": "code",
   "execution_count": 3,
   "metadata": {},
   "outputs": [],
   "source": [
    "# Combine the data and clean it\n",
    "data_user_30222['user_id'] = 30222\n",
    "data_user_48567['user_id'] = 48567\n",
    "data_user_144155['user_id'] = 144155\n",
    "\n",
    "combined_data = pd.concat([data_user_30222, data_user_48567, data_user_144155])\n",
    "combined_data_clean = combined_data.dropna(subset=['score'])  # Remove rows where 'score' is NaN\n"
   ]
  },
  {
   "cell_type": "code",
   "execution_count": 4,
   "metadata": {},
   "outputs": [],
   "source": [
    "def shared_param_least_squares(params, user_ids, t, obsy):\n",
    "    # Unpack the parameters\n",
    "    # a1, u1 for user 30222; a2, u2 for user 48567; a3, u3 for user 144155; c shared across all\n",
    "    a1, u1, a2, u2, a3, u3, c = params\n",
    "\n",
    "    # Initialize the array to hold the predicted scores\n",
    "    predy = np.zeros_like(obsy)\n",
    "\n",
    "    # Calculate predictions for each user based on their parameters\n",
    "    predy[user_ids == 30222] = a1 - (a1 - u1) * np.exp(-c * t[user_ids == 30222])\n",
    "    predy[user_ids == 48567] = a2 - (a2 - u2) * np.exp(-c * t[user_ids == 48567])\n",
    "    predy[user_ids == 144155] = a3 - (a3 - u3) * np.exp(-c * t[user_ids == 144155])\n",
    "\n",
    "    # Calculate and return the mean squared error\n",
    "    mse = np.mean((predy - obsy)**2)\n",
    "    return mse"
   ]
  },
  {
   "cell_type": "code",
   "execution_count": 5,
   "metadata": {},
   "outputs": [],
   "source": [
    "# Prepare the data for the fitting process\n",
    "user_ids = combined_data_clean['user_id'].values\n",
    "gameplays = combined_data_clean['gameplay'].values\n",
    "scores = combined_data_clean['score'].values\n"
   ]
  },
  {
   "cell_type": "code",
   "execution_count": 6,
   "metadata": {},
   "outputs": [],
   "source": [
    "# Initial guesses for the parameters: a1, u1, a2, u2, a3, u3, c\n",
    "# For a', use the maximum score for each user plus a buffer\n",
    "# For u's, use the minimum score for each user\n",
    "# For c, start with a small positive value\n",
    "initial_params = [\n",
    "    max(combined_data_clean[combined_data_clean['user_id'] == 30222]['score']) + 10,  # a1\n",
    "    min(combined_data_clean[combined_data_clean['user_id'] == 30222]['score']),  # u1\n",
    "    max(combined_data_clean[combined_data_clean['user_id'] == 48567]['score']) + 10,  # a2\n",
    "    min(combined_data_clean[combined_data_clean['user_id'] == 48567]['score']),  # u2\n",
    "    max(combined_data_clean[combined_data_clean['user_id'] == 144155]['score']) + 10,  # a3\n",
    "    min(combined_data_clean[combined_data_clean['user_id'] == 144155]['score']),  # u3\n",
    "    0.01  # c\n",
    "]"
   ]
  },
  {
   "cell_type": "code",
   "execution_count": 7,
   "metadata": {},
   "outputs": [],
   "source": [
    "# Bounds for the parameters, positive paramters\n",
    "param_bounds = [(0, None) for _ in range(7)]"
   ]
  },
  {
   "cell_type": "code",
   "execution_count": 8,
   "metadata": {},
   "outputs": [
    {
     "name": "stdout",
     "output_type": "stream",
     "text": [
      "[5.67315020e+01 3.83526429e+01 6.55124952e+01 4.77435277e+01\n",
      " 4.06096506e+01 1.96825775e+01 6.01064829e-02] 9.667977853532975\n"
     ]
    }
   ],
   "source": [
    "# Perform the fitting process\n",
    "result_shared_params = minimize(shared_param_least_squares, initial_params, args=(user_ids, gameplays, scores), bounds=param_bounds)\n",
    "fitted_params = result_shared_params.x\n",
    "fitted_mse = result_shared_params.fun\n",
    "print(fitted_params, fitted_mse)\n",
    "\n",
    "#Parameter values: \n",
    "#[5.67315020e+01 3.83526429e+01 6.55124952e+01 4.77435277e+01\n",
    "#4.06096506e+01 1.96825775e+01 6.01064829e-02] 9.667977853532975\n"
   ]
  }
 ],
 "metadata": {
  "kernelspec": {
   "display_name": "Python 3.9.13 ('base')",
   "language": "python",
   "name": "python3"
  },
  "language_info": {
   "codemirror_mode": {
    "name": "ipython",
    "version": 3
   },
   "file_extension": ".py",
   "mimetype": "text/x-python",
   "name": "python",
   "nbconvert_exporter": "python",
   "pygments_lexer": "ipython3",
   "version": "3.9.13"
  },
  "orig_nbformat": 4,
  "vscode": {
   "interpreter": {
    "hash": "8715b6007523fecdcaa0175d047630774a80c420e214f691f4aa419b55f37cfb"
   }
  }
 },
 "nbformat": 4,
 "nbformat_minor": 2
}
