{
 "cells": [
  {
   "cell_type": "code",
   "execution_count": 31,
   "metadata": {},
   "outputs": [],
   "source": [
    "import pandas as pd\n",
    "import random"
   ]
  },
  {
   "cell_type": "code",
   "execution_count": 27,
   "metadata": {},
   "outputs": [],
   "source": [
    "csv_file_path = '/Users/sriskandhakandimalla/Documents/PSYCH119/zoodata_small_matrix.csv'  # Update the path accordingly\n",
    "original_feature_matrix = pd.read_csv(csv_file_path)"
   ]
  },
  {
   "cell_type": "code",
   "execution_count": 28,
   "metadata": {},
   "outputs": [],
   "source": [
    "concepts_file_path = '/Users/sriskandhakandimalla/Documents/PSYCH119/zoodata_small_concepts.csv'  # Update the path accordingly\n",
    "original_concepts_matrix = pd.read_csv(concepts_file_path)\n",
    "\n",
    "# Include the column header as the first animal name\n",
    "animal_names_corrected = [original_concepts_matrix.columns[0]] + original_concepts_matrix.iloc[:, 0].tolist()\n",
    "animal_names_df_corrected = pd.DataFrame(animal_names_corrected, columns=['Animal'])\n"
   ]
  },
  {
   "cell_type": "code",
   "execution_count": 29,
   "metadata": {},
   "outputs": [],
   "source": [
    "combined_feature_matrix_corrected = pd.concat([animal_names_df_corrected, original_feature_matrix], axis=1)\n"
   ]
  },
  {
   "cell_type": "code",
   "execution_count": 43,
   "metadata": {},
   "outputs": [],
   "source": [
    "def binary_search_guess_game(feature_matrix):\n",
    "    animals = feature_matrix.set_index('Animal')\n",
    "    features = list(animals.columns)\n",
    "    questions_asked = 0\n",
    "\n",
    "    # Player 1 randomly selects an animal\n",
    "    selected_animal = random.choice(animals.index)\n",
    "\n",
    "    while len(animals) > 1 and features:\n",
    "        # Find the feature that best splits the remaining animals\n",
    "        best_feature = min(features, key=lambda f: abs(0.5 - animals[f].mean()))\n",
    "        features.remove(best_feature)\n",
    "        questions_asked += 1\n",
    "\n",
    "        # Player 2 asks the question and gets the answer based on the selected animal\n",
    "        answer = animals.at[selected_animal, best_feature]\n",
    "\n",
    "        # Keep only animals that match the answer\n",
    "        animals = animals[animals[best_feature] == answer]\n",
    "\n",
    "    # Determine if the guessed animal matches the selected animal\n",
    "    guessed_animal = animals.index[0] if len(animals) == 1 else \"Unknown\"\n",
    "    is_correct = guessed_animal == selected_animal\n",
    "    return selected_animal, guessed_animal, is_correct, questions_asked\n"
   ]
  },
  {
   "cell_type": "code",
   "execution_count": 55,
   "metadata": {},
   "outputs": [
    {
     "data": {
      "text/plain": [
       "[('dolphin', 'dolphin', True, 4),\n",
       " ('octopus', 'octopus', True, 4),\n",
       " ('slowworm', 'slowworm', True, 5),\n",
       " ('sealion', 'sealion', True, 5),\n",
       " ('ostrich', 'ostrich', True, 4)]"
      ]
     },
     "execution_count": 55,
     "metadata": {},
     "output_type": "execute_result"
    }
   ],
   "source": [
    "game_simulation_results = [binary_search_guess_game(combined_feature_matrix_corrected) for _ in range(5)]\n",
    "game_simulation_results"
   ]
  }
 ],
 "metadata": {
  "kernelspec": {
   "display_name": "Python 3.9.13 ('base')",
   "language": "python",
   "name": "python3"
  },
  "language_info": {
   "codemirror_mode": {
    "name": "ipython",
    "version": 3
   },
   "file_extension": ".py",
   "mimetype": "text/x-python",
   "name": "python",
   "nbconvert_exporter": "python",
   "pygments_lexer": "ipython3",
   "version": "3.9.13"
  },
  "orig_nbformat": 4,
  "vscode": {
   "interpreter": {
    "hash": "8715b6007523fecdcaa0175d047630774a80c420e214f691f4aa419b55f37cfb"
   }
  }
 },
 "nbformat": 4,
 "nbformat_minor": 2
}
