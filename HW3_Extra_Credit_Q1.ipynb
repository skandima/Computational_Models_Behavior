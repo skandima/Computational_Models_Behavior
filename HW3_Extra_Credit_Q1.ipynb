{
 "cells": [
  {
   "cell_type": "code",
   "execution_count": 1,
   "metadata": {},
   "outputs": [],
   "source": [
    "import numpy as np\n",
    "from scipy.optimize import minimize\n",
    "import matplotlib.pyplot as plt\n",
    "import pandas as pd"
   ]
  },
  {
   "cell_type": "code",
   "execution_count": 2,
   "metadata": {},
   "outputs": [],
   "source": [
    "# Load in your data\n",
    "data = pd.read_csv('/Users/sriskandhakandimalla/Documents/PSYCH119/LumositySample_user30222.csv')\n",
    "t = data.gameplay\n",
    "obsy = data.score"
   ]
  },
  {
   "cell_type": "code",
   "execution_count": 3,
   "metadata": {},
   "outputs": [
    {
     "data": {
      "text/html": [
       "<div>\n",
       "<style scoped>\n",
       "    .dataframe tbody tr th:only-of-type {\n",
       "        vertical-align: middle;\n",
       "    }\n",
       "\n",
       "    .dataframe tbody tr th {\n",
       "        vertical-align: top;\n",
       "    }\n",
       "\n",
       "    .dataframe thead th {\n",
       "        text-align: right;\n",
       "    }\n",
       "</style>\n",
       "<table border=\"1\" class=\"dataframe\">\n",
       "  <thead>\n",
       "    <tr style=\"text-align: right;\">\n",
       "      <th></th>\n",
       "      <th>gameplay</th>\n",
       "      <th>score</th>\n",
       "      <th>session</th>\n",
       "      <th>gameplay_withinsession</th>\n",
       "      <th>timestamp</th>\n",
       "      <th>dayselapsed</th>\n",
       "    </tr>\n",
       "  </thead>\n",
       "  <tbody>\n",
       "    <tr>\n",
       "      <th>0</th>\n",
       "      <td>1</td>\n",
       "      <td>35.0</td>\n",
       "      <td>1</td>\n",
       "      <td>1</td>\n",
       "      <td>22-Sep-2015 22:02:00</td>\n",
       "      <td>0.000000</td>\n",
       "    </tr>\n",
       "    <tr>\n",
       "      <th>1</th>\n",
       "      <td>2</td>\n",
       "      <td>43.0</td>\n",
       "      <td>1</td>\n",
       "      <td>2</td>\n",
       "      <td>22-Sep-2015 22:03:12</td>\n",
       "      <td>0.000833</td>\n",
       "    </tr>\n",
       "    <tr>\n",
       "      <th>3</th>\n",
       "      <td>4</td>\n",
       "      <td>38.0</td>\n",
       "      <td>2</td>\n",
       "      <td>1</td>\n",
       "      <td>27-Sep-2015 14:38:56</td>\n",
       "      <td>4.692315</td>\n",
       "    </tr>\n",
       "    <tr>\n",
       "      <th>4</th>\n",
       "      <td>5</td>\n",
       "      <td>46.0</td>\n",
       "      <td>2</td>\n",
       "      <td>2</td>\n",
       "      <td>27-Sep-2015 14:40:08</td>\n",
       "      <td>4.693148</td>\n",
       "    </tr>\n",
       "    <tr>\n",
       "      <th>5</th>\n",
       "      <td>6</td>\n",
       "      <td>47.0</td>\n",
       "      <td>3</td>\n",
       "      <td>1</td>\n",
       "      <td>01-Oct-2015 18:56:04</td>\n",
       "      <td>8.870880</td>\n",
       "    </tr>\n",
       "  </tbody>\n",
       "</table>\n",
       "</div>"
      ],
      "text/plain": [
       "   gameplay  score  session  gameplay_withinsession             timestamp  \\\n",
       "0         1   35.0        1                       1  22-Sep-2015 22:02:00   \n",
       "1         2   43.0        1                       2  22-Sep-2015 22:03:12   \n",
       "3         4   38.0        2                       1  27-Sep-2015 14:38:56   \n",
       "4         5   46.0        2                       2  27-Sep-2015 14:40:08   \n",
       "5         6   47.0        3                       1  01-Oct-2015 18:56:04   \n",
       "\n",
       "   dayselapsed  \n",
       "0     0.000000  \n",
       "1     0.000833  \n",
       "3     4.692315  \n",
       "4     4.693148  \n",
       "5     8.870880  "
      ]
     },
     "execution_count": 3,
     "metadata": {},
     "output_type": "execute_result"
    }
   ],
   "source": [
    "# Remove rows with missing 'score' values\n",
    "cleaned_data_user_30222 = data.dropna(subset=['score'])\n",
    "cleaned_data_user_30222.head()\n"
   ]
  },
  {
   "cell_type": "code",
   "execution_count": 4,
   "metadata": {},
   "outputs": [],
   "source": [
    "# Define the exponential model function\n",
    "def exp_model(t, a, u, c):\n",
    "    return a - (a - u) * np.exp(-c * t)\n",
    "\n",
    "# Define the function to calculate the mean squared error (MSE) for the exponential model\n",
    "def calc_mse_exp(params, t, obsy):\n",
    "    a = params[0]\n",
    "    u = params[1]\n",
    "    c = params[2]\n",
    "    predy = exp_model(t, a, u, c)\n",
    "    mse = np.mean((predy - obsy)**2)\n",
    "    return mse"
   ]
  },
  {
   "cell_type": "code",
   "execution_count": 5,
   "metadata": {},
   "outputs": [],
   "source": [
    "initial_guesses_exp = [max(cleaned_data_user_30222['score']) + 10,  # a\n",
    "                       min(cleaned_data_user_30222['score']),  # u\n",
    "                       0.01]  # c\n"
   ]
  },
  {
   "cell_type": "code",
   "execution_count": 6,
   "metadata": {},
   "outputs": [],
   "source": [
    "bounds_exp = [(max(cleaned_data_user_30222['score']), None),  # Bound for 'a'\n",
    "              (0, None),  # Bound for 'u' to be positive\n",
    "              (0, None)]  # Bound for 'c' to be positive"
   ]
  },
  {
   "cell_type": "code",
   "execution_count": 7,
   "metadata": {},
   "outputs": [
    {
     "data": {
      "text/plain": [
       "(66.86347363972156, 40.82439225186066, 0.022993769034040816, 7.153931170453514)"
      ]
     },
     "execution_count": 7,
     "metadata": {},
     "output_type": "execute_result"
    }
   ],
   "source": [
    "result_exp = minimize(calc_mse_exp, initial_guesses_exp, args=(t, obsy), bounds=bounds_exp)\n",
    "a_fit_exp, u_fit_exp, c_fit_exp = result_exp.x\n",
    "mse_exp = result_exp.fun\n",
    "\n",
    "a_fit_exp, u_fit_exp, c_fit_exp, mse_exp"
   ]
  }
 ],
 "metadata": {
  "kernelspec": {
   "display_name": "Python 3.9.13 ('base')",
   "language": "python",
   "name": "python3"
  },
  "language_info": {
   "codemirror_mode": {
    "name": "ipython",
    "version": 3
   },
   "file_extension": ".py",
   "mimetype": "text/x-python",
   "name": "python",
   "nbconvert_exporter": "python",
   "pygments_lexer": "ipython3",
   "version": "3.9.13"
  },
  "orig_nbformat": 4,
  "vscode": {
   "interpreter": {
    "hash": "8715b6007523fecdcaa0175d047630774a80c420e214f691f4aa419b55f37cfb"
   }
  }
 },
 "nbformat": 4,
 "nbformat_minor": 2
}
