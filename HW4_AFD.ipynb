{
 "cells": [
  {
   "cell_type": "code",
   "execution_count": 69,
   "metadata": {},
   "outputs": [],
   "source": [
    "import numpy as np\n",
    "import matplotlib.pyplot as plt\n",
    "import pandas as pd\n",
    "from scipy.optimize import minimize\n"
   ]
  },
  {
   "cell_type": "code",
   "execution_count": 70,
   "metadata": {},
   "outputs": [],
   "source": [
    "# Load in your data\n",
    "data = pd.read_csv('/Users/sriskandhakandimalla/Documents/PSYCH119/LumositySample_user30222.csv')\n",
    "g = data.gameplay\n",
    "obsy = data.score\n",
    "s = data.session\n",
    "d = data.dayselapsed"
   ]
  },
  {
   "cell_type": "code",
   "execution_count": 71,
   "metadata": {},
   "outputs": [
    {
     "data": {
      "text/html": [
       "<div>\n",
       "<style scoped>\n",
       "    .dataframe tbody tr th:only-of-type {\n",
       "        vertical-align: middle;\n",
       "    }\n",
       "\n",
       "    .dataframe tbody tr th {\n",
       "        vertical-align: top;\n",
       "    }\n",
       "\n",
       "    .dataframe thead th {\n",
       "        text-align: right;\n",
       "    }\n",
       "</style>\n",
       "<table border=\"1\" class=\"dataframe\">\n",
       "  <thead>\n",
       "    <tr style=\"text-align: right;\">\n",
       "      <th></th>\n",
       "      <th>gameplay</th>\n",
       "      <th>score</th>\n",
       "      <th>session</th>\n",
       "      <th>gameplay_withinsession</th>\n",
       "      <th>timestamp</th>\n",
       "      <th>dayselapsed</th>\n",
       "    </tr>\n",
       "  </thead>\n",
       "  <tbody>\n",
       "    <tr>\n",
       "      <th>0</th>\n",
       "      <td>1</td>\n",
       "      <td>35.0</td>\n",
       "      <td>1</td>\n",
       "      <td>1</td>\n",
       "      <td>22-Sep-2015 22:02:00</td>\n",
       "      <td>0.000000</td>\n",
       "    </tr>\n",
       "    <tr>\n",
       "      <th>1</th>\n",
       "      <td>2</td>\n",
       "      <td>43.0</td>\n",
       "      <td>1</td>\n",
       "      <td>2</td>\n",
       "      <td>22-Sep-2015 22:03:12</td>\n",
       "      <td>0.000833</td>\n",
       "    </tr>\n",
       "    <tr>\n",
       "      <th>3</th>\n",
       "      <td>4</td>\n",
       "      <td>38.0</td>\n",
       "      <td>2</td>\n",
       "      <td>1</td>\n",
       "      <td>27-Sep-2015 14:38:56</td>\n",
       "      <td>4.692315</td>\n",
       "    </tr>\n",
       "    <tr>\n",
       "      <th>4</th>\n",
       "      <td>5</td>\n",
       "      <td>46.0</td>\n",
       "      <td>2</td>\n",
       "      <td>2</td>\n",
       "      <td>27-Sep-2015 14:40:08</td>\n",
       "      <td>4.693148</td>\n",
       "    </tr>\n",
       "    <tr>\n",
       "      <th>5</th>\n",
       "      <td>6</td>\n",
       "      <td>47.0</td>\n",
       "      <td>3</td>\n",
       "      <td>1</td>\n",
       "      <td>01-Oct-2015 18:56:04</td>\n",
       "      <td>8.870880</td>\n",
       "    </tr>\n",
       "  </tbody>\n",
       "</table>\n",
       "</div>"
      ],
      "text/plain": [
       "   gameplay  score  session  gameplay_withinsession             timestamp  \\\n",
       "0         1   35.0        1                       1  22-Sep-2015 22:02:00   \n",
       "1         2   43.0        1                       2  22-Sep-2015 22:03:12   \n",
       "3         4   38.0        2                       1  27-Sep-2015 14:38:56   \n",
       "4         5   46.0        2                       2  27-Sep-2015 14:40:08   \n",
       "5         6   47.0        3                       1  01-Oct-2015 18:56:04   \n",
       "\n",
       "   dayselapsed  \n",
       "0     0.000000  \n",
       "1     0.000833  \n",
       "3     4.692315  \n",
       "4     4.693148  \n",
       "5     8.870880  "
      ]
     },
     "execution_count": 71,
     "metadata": {},
     "output_type": "execute_result"
    }
   ],
   "source": [
    "# Remove rows with missing 'score' values\n",
    "cleaned_data_user_30222 = data.dropna(subset=['score'])\n",
    "cleaned_data_user_30222.head()"
   ]
  },
  {
   "cell_type": "code",
   "execution_count": 72,
   "metadata": {},
   "outputs": [],
   "source": [
    "def AFDMODEL(u, b, h, c, s, d, g):\n",
    "    n = len(g)  # Number of practice events\n",
    "    y = np.zeros(n)\n",
    "\n",
    "    for i in range(n):  # Loop over all n practice events\n",
    "        strength = 0  # Initialize strength to zero\n",
    "        for j in range(i):  # Loop over all practice events before the i-th\n",
    "            if s[i] == s[j]: \n",
    "                t = (i - j)  # Within a session, elapsed time is based on number of practice events elapsed\n",
    "            else:\n",
    "                t = (i - j) + (d[i] - d[j]) * h  # Between sessions, add an additional factor based on number of days elapsed\n",
    "            strength += np.exp(-c*t)  # Increment the total strength\n",
    "\n",
    "        y[i] = u + b * np.log(strength + 1)  # Map the total strength to a predicted score for the i-th practice event\n",
    "\n",
    "    return y"
   ]
  },
  {
   "cell_type": "code",
   "execution_count": 73,
   "metadata": {},
   "outputs": [],
   "source": [
    "def calcmse(params, s, d, g, obsy):\n",
    "    # Parameters\n",
    "    u = params[0]  # assume that the 1st parameter is u\n",
    "    b = params[1]  # assume that the 2nd parameter is b\n",
    "    h = params[2]  # assume that the 3rd parameter is h\n",
    "    c = params[3]  # assume that the 4th parameter is c\n",
    "\n",
    "\n",
    "    # Predicted scores\n",
    "    predy = AFDMODEL(u, b, h, c, s, d, g)  # predicted scores\n",
    "\n",
    "    # Mean squared deviations between predicted and observed score\n",
    "    #   This is what we want to minimize\n",
    "    mse = np.mean((predy - obsy)**2)\n",
    "\n",
    "    return mse"
   ]
  },
  {
   "cell_type": "code",
   "execution_count": 74,
   "metadata": {},
   "outputs": [],
   "source": [
    "# Initialize parameters for the optimization procedure\n",
    "p0 = np.zeros(4)\n",
    "p0[0] = 30  #u\n",
    "p0[1] = 1 #b\n",
    "p0[2] = 10 #h\n",
    "p0[3] = 0.2 #c"
   ]
  },
  {
   "cell_type": "code",
   "execution_count": 79,
   "metadata": {},
   "outputs": [],
   "source": [
    "# Extract gameplay and score values for fitting\n",
    "g = cleaned_data_user_30222['gameplay'].values\n",
    "s = cleaned_data_user_30222['session'].values\n",
    "d = cleaned_data_user_30222['dayselapsed'].values\n",
    "obsy = cleaned_data_user_30222['score'].values\n"
   ]
  },
  {
   "cell_type": "code",
   "execution_count": 81,
   "metadata": {},
   "outputs": [
    {
     "name": "stderr",
     "output_type": "stream",
     "text": [
      "/var/folders/lw/z_mh2kd50pqc8qswk8b692sh0000gn/T/ipykernel_21575/765629352.py:12: RuntimeWarning: overflow encountered in exp\n",
      "  strength += np.exp(-c*t)  # Increment the total strength\n",
      "/Users/sriskandhakandimalla/opt/anaconda3/lib/python3.9/site-packages/scipy/optimize/_numdiff.py:576: RuntimeWarning: invalid value encountered in subtract\n",
      "  df = fun(x) - f0\n",
      "/var/folders/lw/z_mh2kd50pqc8qswk8b692sh0000gn/T/ipykernel_21575/765629352.py:12: RuntimeWarning: overflow encountered in exp\n",
      "  strength += np.exp(-c*t)  # Increment the total strength\n"
     ]
    }
   ],
   "source": [
    "#Run the optimizer and get the parameters p that minimize the squared deviations\n",
    "result = minimize(calcmse, p0, args=(s, d, g, obsy))\n",
    "p = result.x\n",
    "\n"
   ]
  },
  {
   "cell_type": "code",
   "execution_count": 82,
   "metadata": {},
   "outputs": [
    {
     "name": "stdout",
     "output_type": "stream",
     "text": [
      "Best fitting parameters:\n",
      "u=30.262\n",
      "b=1.187\n",
      "h=10.000\n",
      "c=-0.032\n"
     ]
    }
   ],
   "source": [
    "#Report the parameters found\n",
    "print('Best fitting parameters:')\n",
    "print('u={0:3.3f}'.format(p[0]))\n",
    "print('b={0:3.3f}'.format(p[1]))\n",
    "print('h={0:3.3f}'.format(p[2]))\n",
    "print('c={0:3.3f}'.format(p[3]))\n",
    "\n",
    "u = p[0]\n",
    "b = p[1]\n",
    "h = p[2]\n",
    "c = p[3]"
   ]
  },
  {
   "cell_type": "code",
   "execution_count": 83,
   "metadata": {},
   "outputs": [],
   "source": [
    "#Calculate the predicted y using the best fitting parameters\n",
    "predy = AFDMODEL(u, b, h, c, s, d, g)"
   ]
  },
  {
   "cell_type": "code",
   "execution_count": 84,
   "metadata": {},
   "outputs": [
    {
     "data": {
      "image/png": "[encoded data removed]",
      "text/plain": [
       "<Figure size 640x480 with 1 Axes>"
      ]
     },
     "metadata": {},
     "output_type": "display_data"
    }
   ],
   "source": [
    "# Plotting the observed and predicted scores\n",
    "plt.plot(g, obsy, 'ko', label='Observed Scores')\n",
    "plt.plot(g, predy, 'r-', label='Predicted Scores')\n",
    "plt.xlabel('Gameplay')\n",
    "plt.ylabel('Score')\n",
    "plt.legend()\n",
    "plt.show()"
   ]
  }
 ],
 "metadata": {
  "kernelspec": {
   "display_name": "Python 3.9.13 ('base')",
   "language": "python",
   "name": "python3"
  },
  "language_info": {
   "codemirror_mode": {
    "name": "ipython",
    "version": 3
   },
   "file_extension": ".py",
   "mimetype": "text/x-python",
   "name": "python",
   "nbconvert_exporter": "python",
   "pygments_lexer": "ipython3",
   "version": "3.9.13"
  },
  "orig_nbformat": 4,
  "vscode": {
   "interpreter": {
    "hash": "8715b6007523fecdcaa0175d047630774a80c420e214f691f4aa419b55f37cfb"
   }
  }
 },
 "nbformat": 4,
 "nbformat_minor": 2
}
