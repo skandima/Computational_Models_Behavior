{
 "cells": [
  {
   "cell_type": "code",
   "execution_count": 6,
   "metadata": {},
   "outputs": [],
   "source": [
    "import numpy as np"
   ]
  },
  {
   "cell_type": "code",
   "execution_count": 7,
   "metadata": {},
   "outputs": [],
   "source": [
    "\n",
    "def drift_diffusion_model_full(v, eta, sigma, z, a, delta_t, t0, s):\n",
    "    # Sample a random number uniformly between 0 and 1\n",
    "    r = np.random.uniform(0, 1)\n",
    "    \n",
    "    # Initialize evidence x between z - 0.5s and z + 0.5s\n",
    "    x = z + s * (r - 0.5)\n",
    "    \n",
    "    # Initialize elapsed time to t0\n",
    "    t = t0\n",
    "    \n",
    "    # Sample a mean drift for this trial (for this specific simulation, η is 0, so vstep = v)\n",
    "    vstep = np.random.normal(v, eta)\n",
    "    \n",
    "    while (x > 0) and (x < a):  # Stop when the lower boundary (0) or upper boundary (a) has been reached\n",
    "        # Sample a step size ε from a Normal distribution\n",
    "        epsilon = np.random.normal(vstep, sigma)\n",
    "        \n",
    "        # Update the evidence with the step size\n",
    "        x += epsilon\n",
    "        \n",
    "        # Update the elapsed time\n",
    "        t += delta_t\n",
    "    \n",
    "    # Code the choice as 0 if the lower bound was reached\n",
    "    if x <= 0:\n",
    "        y = 0\n",
    "    # Code the choice as 1 if the upper bound was reached\n",
    "    elif x >= a:\n",
    "        y = 1\n",
    "    \n",
    "    # Return the choice and response time\n",
    "    return y, t\n",
    "\n",
    "# Parameters\n",
    "v = 0.5\n",
    "eta = 0\n",
    "sigma = 7\n",
    "z = 100\n",
    "a = 200\n",
    "delta_t = 1\n",
    "t0 = 200\n",
    "s = 140\n",
    "\n",
    "# Simulate 1000 trials\n",
    "num_trials = 1000\n",
    "results = [drift_diffusion_model_full(v, eta, sigma, z, a, delta_t, t0, s) for _ in range(num_trials)]\n",
    "\n"
   ]
  },
  {
   "cell_type": "code",
   "execution_count": 8,
   "metadata": {},
   "outputs": [
    {
     "name": "stdout",
     "output_type": "stream",
     "text": [
      "Average response time for correct decisions: 349.54ms\n",
      "Average response time for incorrect decisions: 313.84ms\n"
     ]
    }
   ],
   "source": [
    "correct_times = [t for y, t in results if y == 1]\n",
    "incorrect_times = [t for y, t in results if y == 0]\n",
    "\n",
    "average_correct_time = np.mean(correct_times)\n",
    "average_incorrect_time = np.mean(incorrect_times)\n",
    "\n",
    "print(f\"Average response time for correct decisions: {average_correct_time:.2f}ms\")\n",
    "print(f\"Average response time for incorrect decisions: {average_incorrect_time:.2f}ms\")\n"
   ]
  }
 ],
 "metadata": {
  "kernelspec": {
   "display_name": "Python 3.9.13 ('fmri')",
   "language": "python",
   "name": "python3"
  },
  "language_info": {
   "codemirror_mode": {
    "name": "ipython",
    "version": 3
   },
   "file_extension": ".py",
   "mimetype": "text/x-python",
   "name": "python",
   "nbconvert_exporter": "python",
   "pygments_lexer": "ipython3",
   "version": "3.9.13"
  },
  "orig_nbformat": 4,
  "vscode": {
   "interpreter": {
    "hash": "80bff54aa501b9863177ca35462a11c9236aa744a0f57ba04fa544eaf5b77d74"
   }
  }
 },
 "nbformat": 4,
 "nbformat_minor": 2
}
